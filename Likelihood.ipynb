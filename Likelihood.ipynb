{
 "cells": [
  {
   "cell_type": "markdown",
   "id": "d8f215fa-a47b-43f4-89de-1d5357fe9ec0",
   "metadata": {},
   "source": [
    "# Calculation of Marginal Likelihood"
   ]
  },
  {
   "cell_type": "markdown",
   "id": "18f77c62-7357-42c0-83de-3fd6ec4f70be",
   "metadata": {},
   "source": [
    "## Likelihood from NLE"
   ]
  },
  {
   "cell_type": "code",
   "execution_count": null,
   "id": "0b55b1c6-7c1d-4626-b17d-bb0faa39dbfd",
   "metadata": {},
   "outputs": [],
   "source": [
    "# Essentials\n",
    "from scipy.special import logsumexp\n",
    "import numpy as np\n",
    "import pandas as pd\n",
    "import pickle\n",
    "import sbi.utils as utils\n",
    "import torch\n",
    "\n",
    "lik = pickle.load(open(f'posteriors/posterior_chuong_snle_10.pkl', 'rb')) # Amortized Likelihood estimator\n",
    "\n",
    "# Model Prior\n",
    "prior_min = np.log10(np.array([1e-2,1e-7,1e-8]))\n",
    "prior_max = np.log10(np.array([1,1e-2,1e-2]))\n",
    "prior = utils.BoxUniform(low=torch.tensor(prior_min), \n",
    "                         high=torch.tensor(prior_max))"
   ]
  },
  {
   "cell_type": "markdown",
   "id": "9e093f8f-f44b-4527-84e4-24e4097e3ef4",
   "metadata": {},
   "source": [
    "## $P(X) = \\int P(X|\\zeta)P(\\zeta)d\\zeta$"
   ]
  },
  {
   "cell_type": "code",
   "execution_count": 4,
   "id": "606fc9db-0b00-4ec3-95e4-2eea5b4ad1b1",
   "metadata": {},
   "outputs": [
    {
     "name": "stderr",
     "output_type": "stream",
     "text": [
      "/home/jupyter-nadavbennun/.local/lib/python3.9/site-packages/sbi/utils/user_input_checks.py:575: FutureWarning: Series.__getitem__ treating keys as positions is deprecated. In a future version, integer keys will always be treated as labels (consistent with DataFrame behavior). To access a value by position, use `ser.iloc[pos]`\n",
      "  x = atleast_2d(torch.as_tensor(x, dtype=float32))\n",
      "/home/jupyter-nadavbennun/.local/lib/python3.9/site-packages/sbi/utils/user_input_checks.py:575: FutureWarning: Series.__getitem__ treating keys as positions is deprecated. In a future version, integer keys will always be treated as labels (consistent with DataFrame behavior). To access a value by position, use `ser.iloc[pos]`\n",
      "  x = atleast_2d(torch.as_tensor(x, dtype=float32))\n",
      "/home/jupyter-nadavbennun/.local/lib/python3.9/site-packages/sbi/utils/user_input_checks.py:575: FutureWarning: Series.__getitem__ treating keys as positions is deprecated. In a future version, integer keys will always be treated as labels (consistent with DataFrame behavior). To access a value by position, use `ser.iloc[pos]`\n",
      "  x = atleast_2d(torch.as_tensor(x, dtype=float32))\n",
      "/home/jupyter-nadavbennun/.local/lib/python3.9/site-packages/sbi/utils/user_input_checks.py:575: FutureWarning: Series.__getitem__ treating keys as positions is deprecated. In a future version, integer keys will always be treated as labels (consistent with DataFrame behavior). To access a value by position, use `ser.iloc[pos]`\n",
      "  x = atleast_2d(torch.as_tensor(x, dtype=float32))\n",
      "/tmp/ipykernel_2828222/3387417531.py:25: FutureWarning: Downcasting behavior in `replace` is deprecated and will be removed in a future version. To retain the old behavior, explicitly call `result.infer_objects(copy=False)`. To opt-in to the future behavior, set `pd.set_option('future.no_silent_downcasting', True)`\n",
      "  cont_df.replace(np.nan, '') # aesthetics\n"
     ]
    },
    {
     "data": {
      "text/html": [
       "<div>\n",
       "<style scoped>\n",
       "    .dataframe tbody tr th:only-of-type {\n",
       "        vertical-align: middle;\n",
       "    }\n",
       "\n",
       "    .dataframe tbody tr th {\n",
       "        vertical-align: top;\n",
       "    }\n",
       "\n",
       "    .dataframe thead th {\n",
       "        text-align: right;\n",
       "    }\n",
       "</style>\n",
       "<table border=\"1\" class=\"dataframe\">\n",
       "  <thead>\n",
       "    <tr style=\"text-align: right;\">\n",
       "      <th></th>\n",
       "      <th>rep 1</th>\n",
       "      <th>rep 2</th>\n",
       "      <th>rep 3</th>\n",
       "      <th>rep 4</th>\n",
       "      <th>rep 5</th>\n",
       "      <th>rep 6</th>\n",
       "      <th>rep 7</th>\n",
       "      <th>rep 8</th>\n",
       "    </tr>\n",
       "  </thead>\n",
       "  <tbody>\n",
       "    <tr>\n",
       "      <th>wt</th>\n",
       "      <td>-1963</td>\n",
       "      <td>-4188</td>\n",
       "      <td>-1094</td>\n",
       "      <td>-22541</td>\n",
       "      <td>-1558</td>\n",
       "      <td></td>\n",
       "      <td></td>\n",
       "      <td></td>\n",
       "    </tr>\n",
       "    <tr>\n",
       "      <th>ltr</th>\n",
       "      <td>-2480</td>\n",
       "      <td>-1511</td>\n",
       "      <td>-12135</td>\n",
       "      <td>-953</td>\n",
       "      <td>-271</td>\n",
       "      <td>-153</td>\n",
       "      <td>-301</td>\n",
       "      <td></td>\n",
       "    </tr>\n",
       "    <tr>\n",
       "      <th>ars</th>\n",
       "      <td>-5363</td>\n",
       "      <td>-3624</td>\n",
       "      <td>-3460</td>\n",
       "      <td>-366</td>\n",
       "      <td>-1774</td>\n",
       "      <td>-4685</td>\n",
       "      <td>-4489</td>\n",
       "      <td></td>\n",
       "    </tr>\n",
       "    <tr>\n",
       "      <th>all</th>\n",
       "      <td>-911</td>\n",
       "      <td>-1065</td>\n",
       "      <td>-5163</td>\n",
       "      <td>-1853</td>\n",
       "      <td>-3174</td>\n",
       "      <td>-2125</td>\n",
       "      <td>-906</td>\n",
       "      <td>-1648</td>\n",
       "    </tr>\n",
       "  </tbody>\n",
       "</table>\n",
       "</div>"
      ],
      "text/plain": [
       "     rep 1  rep 2  rep 3  rep 4  rep 5  rep 6  rep 7  rep 8\n",
       "wt   -1963  -4188  -1094 -22541  -1558                     \n",
       "ltr  -2480  -1511 -12135   -953   -271   -153   -301       \n",
       "ars  -5363  -3624  -3460   -366  -1774  -4685  -4489       \n",
       "all   -911  -1065  -5163  -1853  -3174  -2125   -906  -1648"
      ]
     },
     "execution_count": 4,
     "metadata": {},
     "output_type": "execute_result"
    }
   ],
   "source": [
    "# Function for P(X)\n",
    "def get_PX(lik, prior, x, n):\n",
    "    # Explored space\n",
    "    s = np.linspace(prior.base_dist.low[0], prior.base_dist.high[0], n)\n",
    "    m = np.linspace(prior.base_dist.low[1], prior.base_dist.high[1], n)\n",
    "    p = np.linspace(prior.base_dist.low[2], prior.base_dist.high[2], n)\n",
    "\n",
    "    # Create empty grid\n",
    "    grd = torch.tensor([[[[s_,m_,p_,0] for s_ in s] for m_ in m] for p_ in p], dtype=torch.float32).reshape(n**3,4)\n",
    "    # Fill it with likelihood (potential = likelihood)\n",
    "    grd[:,3] = lik.potential(x=x,theta=grd[:,0:3]) # vectorized\n",
    "    lens = np.array([float(prior.base_dist.high[i])-float(prior.base_dist.low[i]) for i in range(len(prior.base_dist.high))]) # Prior dimensions\n",
    "    A = np.prod(lens) # Prior volume -> P(θ) = 1/A\n",
    "    dt = A / (n**3) # Granularity\n",
    "    y = grd[:,3] + np.log(1/A) + np.log(dt)\n",
    "    return float(logsumexp(y))# Riemann sum ~ integral -> marginal likelihood\n",
    "\n",
    "lines = ['wt','ltr','ars','all']\n",
    "cont_df = pd.DataFrame(index = lines, columns = [f'rep {i+1}' for i in range(8)])\n",
    "for l in range(len(lines)):\n",
    "    line = lines[l]\n",
    "    X = pd.read_csv(f'empirical_data/{line}.csv', index_col=0) # unimputed data\n",
    "    conts = [round(get_PX(lik, prior, X.iloc[i,:], 100)) for i in range(len(X))]\n",
    "    cont_df.iloc[l,:len(conts)] = conts\n",
    "cont_df.replace(np.nan, '') # aesthetics"
   ]
  },
  {
   "cell_type": "markdown",
   "id": "0ef530cd-3764-4124-8990-fb9ea12c717a",
   "metadata": {},
   "source": [
    "wt #4 and ltr #3 are possibly unrepresentative"
   ]
  },
  {
   "cell_type": "code",
   "execution_count": null,
   "id": "7ac394ff-f51e-49f5-abac-109b0db8671b",
   "metadata": {},
   "outputs": [],
   "source": []
  }
 ],
 "metadata": {
  "kernelspec": {
   "display_name": "Python 3 (ipykernel)",
   "language": "python",
   "name": "python3"
  },
  "language_info": {
   "codemirror_mode": {
    "name": "ipython",
    "version": 3
   },
   "file_extension": ".py",
   "mimetype": "text/x-python",
   "name": "python",
   "nbconvert_exporter": "python",
   "pygments_lexer": "ipython3",
   "version": "3.9.13"
  }
 },
 "nbformat": 4,
 "nbformat_minor": 5
}
