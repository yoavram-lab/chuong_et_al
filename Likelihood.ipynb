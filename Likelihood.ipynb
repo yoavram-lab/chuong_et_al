{
 "cells": [
  {
   "cell_type": "markdown",
   "id": "d8f215fa-a47b-43f4-89de-1d5357fe9ec0",
   "metadata": {},
   "source": [
    "# Calculation of Marginal Likelihood"
   ]
  },
  {
   "cell_type": "markdown",
   "id": "18f77c62-7357-42c0-83de-3fd6ec4f70be",
   "metadata": {},
   "source": [
    "## Likelihood from NLE"
   ]
  },
  {
   "cell_type": "code",
   "execution_count": 2,
   "id": "0b55b1c6-7c1d-4626-b17d-bb0faa39dbfd",
   "metadata": {},
   "outputs": [],
   "source": [
    "# Essentials\n",
    "from scipy.special import logsumexp\n",
    "import numpy as np\n",
    "import pandas as pd\n",
    "import pickle\n",
    "import sbi.utils as utils\n",
    "import torch\n",
    "\n",
    "lik = pickle.load(open(f'posteriors/posterior_chuong_snle_10.pkl', 'rb')) # Amortized Likelihood estimator\n",
    "posterior_chuong = pickle.load(open(f'posteriors/posterior_chuong.pkl', 'rb')) # Amortized posterior estimator\n",
    "\n",
    "# Model Prior\n",
    "prior_min = np.log10(np.array([1e-2,1e-7,1e-8]))\n",
    "prior_max = np.log10(np.array([1,1e-2,1e-2]))\n",
    "prior = utils.BoxUniform(low=torch.tensor(prior_min), \n",
    "                         high=torch.tensor(prior_max))"
   ]
  },
  {
   "cell_type": "markdown",
   "id": "9e093f8f-f44b-4527-84e4-24e4097e3ef4",
   "metadata": {},
   "source": [
    "## $P(X) = \\int P(X|\\zeta)P(\\zeta)d\\zeta$"
   ]
  },
  {
   "cell_type": "code",
   "execution_count": 9,
   "id": "606fc9db-0b00-4ec3-95e4-2eea5b4ad1b1",
   "metadata": {},
   "outputs": [
    {
     "name": "stderr",
     "output_type": "stream",
     "text": [
      "/home/jupyter-nadavbennun/.local/lib/python3.9/site-packages/sbi/utils/user_input_checks.py:575: FutureWarning: Series.__getitem__ treating keys as positions is deprecated. In a future version, integer keys will always be treated as labels (consistent with DataFrame behavior). To access a value by position, use `ser.iloc[pos]`\n",
      "  x = atleast_2d(torch.as_tensor(x, dtype=float32))\n",
      "/home/jupyter-nadavbennun/.local/lib/python3.9/site-packages/sbi/utils/user_input_checks.py:575: FutureWarning: Series.__getitem__ treating keys as positions is deprecated. In a future version, integer keys will always be treated as labels (consistent with DataFrame behavior). To access a value by position, use `ser.iloc[pos]`\n",
      "  x = atleast_2d(torch.as_tensor(x, dtype=float32))\n",
      "/home/jupyter-nadavbennun/.local/lib/python3.9/site-packages/sbi/utils/user_input_checks.py:575: FutureWarning: Series.__getitem__ treating keys as positions is deprecated. In a future version, integer keys will always be treated as labels (consistent with DataFrame behavior). To access a value by position, use `ser.iloc[pos]`\n",
      "  x = atleast_2d(torch.as_tensor(x, dtype=float32))\n",
      "/home/jupyter-nadavbennun/.local/lib/python3.9/site-packages/sbi/utils/user_input_checks.py:575: FutureWarning: Series.__getitem__ treating keys as positions is deprecated. In a future version, integer keys will always be treated as labels (consistent with DataFrame behavior). To access a value by position, use `ser.iloc[pos]`\n",
      "  x = atleast_2d(torch.as_tensor(x, dtype=float32))\n",
      "/tmp/ipykernel_3972610/1090417269.py:25: FutureWarning: Downcasting behavior in `replace` is deprecated and will be removed in a future version. To retain the old behavior, explicitly call `result.infer_objects(copy=False)`. To opt-in to the future behavior, set `pd.set_option('future.no_silent_downcasting', True)`\n",
      "  cont_df.replace(np.nan, '') # aesthetics\n"
     ]
    },
    {
     "data": {
      "text/html": [
       "<div>\n",
       "<style scoped>\n",
       "    .dataframe tbody tr th:only-of-type {\n",
       "        vertical-align: middle;\n",
       "    }\n",
       "\n",
       "    .dataframe tbody tr th {\n",
       "        vertical-align: top;\n",
       "    }\n",
       "\n",
       "    .dataframe thead th {\n",
       "        text-align: right;\n",
       "    }\n",
       "</style>\n",
       "<table border=\"1\" class=\"dataframe\">\n",
       "  <thead>\n",
       "    <tr style=\"text-align: right;\">\n",
       "      <th></th>\n",
       "      <th>rep 1</th>\n",
       "      <th>rep 2</th>\n",
       "      <th>rep 3</th>\n",
       "      <th>rep 4</th>\n",
       "      <th>rep 5</th>\n",
       "      <th>rep 6</th>\n",
       "      <th>rep 7</th>\n",
       "      <th>rep 8</th>\n",
       "    </tr>\n",
       "  </thead>\n",
       "  <tbody>\n",
       "    <tr>\n",
       "      <th>wt</th>\n",
       "      <td>-1950</td>\n",
       "      <td>-4174</td>\n",
       "      <td>-1080</td>\n",
       "      <td>-22527</td>\n",
       "      <td>-1544</td>\n",
       "      <td></td>\n",
       "      <td></td>\n",
       "      <td></td>\n",
       "    </tr>\n",
       "    <tr>\n",
       "      <th>ltr</th>\n",
       "      <td>-2466</td>\n",
       "      <td>-1497</td>\n",
       "      <td>-12121</td>\n",
       "      <td>-940</td>\n",
       "      <td>-257</td>\n",
       "      <td>-139</td>\n",
       "      <td>-287</td>\n",
       "      <td></td>\n",
       "    </tr>\n",
       "    <tr>\n",
       "      <th>ars</th>\n",
       "      <td>-5349</td>\n",
       "      <td>-3610</td>\n",
       "      <td>-3446</td>\n",
       "      <td>-352</td>\n",
       "      <td>-1760</td>\n",
       "      <td>-4671</td>\n",
       "      <td>-4475</td>\n",
       "      <td></td>\n",
       "    </tr>\n",
       "    <tr>\n",
       "      <th>all</th>\n",
       "      <td>-898</td>\n",
       "      <td>-1051</td>\n",
       "      <td>-5150</td>\n",
       "      <td>-1839</td>\n",
       "      <td>-3161</td>\n",
       "      <td>-2111</td>\n",
       "      <td>-893</td>\n",
       "      <td>-1635</td>\n",
       "    </tr>\n",
       "  </tbody>\n",
       "</table>\n",
       "</div>"
      ],
      "text/plain": [
       "     rep 1  rep 2  rep 3  rep 4  rep 5  rep 6  rep 7  rep 8\n",
       "wt   -1950  -4174  -1080 -22527  -1544                     \n",
       "ltr  -2466  -1497 -12121   -940   -257   -139   -287       \n",
       "ars  -5349  -3610  -3446   -352  -1760  -4671  -4475       \n",
       "all   -898  -1051  -5150  -1839  -3161  -2111   -893  -1635"
      ]
     },
     "execution_count": 9,
     "metadata": {},
     "output_type": "execute_result"
    }
   ],
   "source": [
    "# Function for P(X)\n",
    "def get_PX(lik, prior, x, n):\n",
    "    # Explored space\n",
    "    s = np.linspace(prior.base_dist.low[0], prior.base_dist.high[0], n)\n",
    "    m = np.linspace(prior.base_dist.low[1], prior.base_dist.high[1], n)\n",
    "    p = np.linspace(prior.base_dist.low[2], prior.base_dist.high[2], n)\n",
    "\n",
    "    # Create empty grid\n",
    "    grd = torch.tensor([[[[s_,m_,p_,0] for s_ in s] for m_ in m] for p_ in p], dtype=torch.float32).reshape(n**3,4)\n",
    "    # Fill it with likelihood (potential = likelihood)\n",
    "    grd[:,3] = lik.potential(x=x,theta=grd[:,0:3]) # vectorized\n",
    "    # lens = np.array([float(prior.base_dist.high[i])-float(prior.base_dist.low[i]) for i in range(len(prior.base_dist.high))]) # Prior dimensions\n",
    "    # A = np.prod(lens) # Prior volume -> P(θ) = 1/A\n",
    "    # dt = A / (n**3) # Granularity\n",
    "    # y = grd[:,3] + np.log(1/A) + np.log(dt)\n",
    "    return float(logsumexp(grd[:,3]))# Riemann sum ~ integral -> marginal likelihood\n",
    "\n",
    "lines = ['wt','ltr','ars','all']\n",
    "cont_df = pd.DataFrame(index = lines, columns = [f'rep {i+1}' for i in range(8)])\n",
    "for l in range(len(lines)):\n",
    "    line = lines[l]\n",
    "    X = pd.read_csv(f'empirical_data/{line}.csv', index_col=0) # unimputed data\n",
    "    conts = [round(get_PX(lik, prior, X.iloc[i,:], 100)) for i in range(len(X))]\n",
    "    cont_df.iloc[l,:len(conts)] = conts\n",
    "cont_df.replace(np.nan, '') # aesthetics"
   ]
  },
  {
   "cell_type": "markdown",
   "id": "0ef530cd-3764-4124-8990-fb9ea12c717a",
   "metadata": {},
   "source": [
    "wt #4 and ltr #3 are possibly unrepresentative"
   ]
  },
  {
   "cell_type": "markdown",
   "id": "774af0b6-61eb-48d3-b0ad-5dc37ec96049",
   "metadata": {},
   "source": [
    "## $P(X) = { {P(X|\\theta)P(\\theta)} \\over {P(\\theta|X)} } \\forall \\theta$"
   ]
  },
  {
   "cell_type": "code",
   "execution_count": 5,
   "id": "bc9b1e0d-0c82-49d6-bd90-c82d8de34694",
   "metadata": {},
   "outputs": [
    {
     "name": "stderr",
     "output_type": "stream",
     "text": [
      "/home/jupyter-nadavbennun/.local/lib/python3.9/site-packages/sbi/utils/user_input_checks.py:575: FutureWarning: Series.__getitem__ treating keys as positions is deprecated. In a future version, integer keys will always be treated as labels (consistent with DataFrame behavior). To access a value by position, use `ser.iloc[pos]`\n",
      "  x = atleast_2d(torch.as_tensor(x, dtype=float32))\n"
     ]
    },
    {
     "data": {
      "application/vnd.jupyter.widget-view+json": {
       "model_id": "b72442b51e6241a98767007934fb8b14",
       "version_major": 2,
       "version_minor": 0
      },
      "text/plain": [
       "Drawing 100 posterior samples:   0%|          | 0/100 [00:00<?, ?it/s]"
      ]
     },
     "metadata": {},
     "output_type": "display_data"
    },
    {
     "data": {
      "application/vnd.jupyter.widget-view+json": {
       "model_id": "c8a5c8c661044604b1a74f47aa065000",
       "version_major": 2,
       "version_minor": 0
      },
      "text/plain": [
       "Drawing 100 posterior samples:   0%|          | 0/100 [00:00<?, ?it/s]"
      ]
     },
     "metadata": {},
     "output_type": "display_data"
    },
    {
     "data": {
      "application/vnd.jupyter.widget-view+json": {
       "model_id": "46eb4a8707af402ca114d5e2f212b9f4",
       "version_major": 2,
       "version_minor": 0
      },
      "text/plain": [
       "Drawing 100 posterior samples:   0%|          | 0/100 [00:00<?, ?it/s]"
      ]
     },
     "metadata": {},
     "output_type": "display_data"
    },
    {
     "data": {
      "application/vnd.jupyter.widget-view+json": {
       "model_id": "3d20e92531a54318be40ab4cbe24f782",
       "version_major": 2,
       "version_minor": 0
      },
      "text/plain": [
       "Drawing 100 posterior samples:   0%|          | 0/100 [00:00<?, ?it/s]"
      ]
     },
     "metadata": {},
     "output_type": "display_data"
    },
    {
     "data": {
      "application/vnd.jupyter.widget-view+json": {
       "model_id": "0f90b287a195430482aa7d29b4f816fb",
       "version_major": 2,
       "version_minor": 0
      },
      "text/plain": [
       "Drawing 100 posterior samples:   0%|          | 0/100 [00:00<?, ?it/s]"
      ]
     },
     "metadata": {},
     "output_type": "display_data"
    },
    {
     "name": "stderr",
     "output_type": "stream",
     "text": [
      "/home/jupyter-nadavbennun/.local/lib/python3.9/site-packages/sbi/utils/user_input_checks.py:575: FutureWarning: Series.__getitem__ treating keys as positions is deprecated. In a future version, integer keys will always be treated as labels (consistent with DataFrame behavior). To access a value by position, use `ser.iloc[pos]`\n",
      "  x = atleast_2d(torch.as_tensor(x, dtype=float32))\n"
     ]
    },
    {
     "data": {
      "application/vnd.jupyter.widget-view+json": {
       "model_id": "42dcf6171e554539b38f5991cd2fba2f",
       "version_major": 2,
       "version_minor": 0
      },
      "text/plain": [
       "Drawing 100 posterior samples:   0%|          | 0/100 [00:00<?, ?it/s]"
      ]
     },
     "metadata": {},
     "output_type": "display_data"
    },
    {
     "data": {
      "application/vnd.jupyter.widget-view+json": {
       "model_id": "de0c543ce5c94985ac8d1c165649d2df",
       "version_major": 2,
       "version_minor": 0
      },
      "text/plain": [
       "Drawing 100 posterior samples:   0%|          | 0/100 [00:00<?, ?it/s]"
      ]
     },
     "metadata": {},
     "output_type": "display_data"
    },
    {
     "data": {
      "application/vnd.jupyter.widget-view+json": {
       "model_id": "bfb5626d30de43ca81fb9bdd5c42161f",
       "version_major": 2,
       "version_minor": 0
      },
      "text/plain": [
       "Drawing 100 posterior samples:   0%|          | 0/100 [00:00<?, ?it/s]"
      ]
     },
     "metadata": {},
     "output_type": "display_data"
    },
    {
     "data": {
      "application/vnd.jupyter.widget-view+json": {
       "model_id": "d63f5c5394634a8f9d18999d62d08c5a",
       "version_major": 2,
       "version_minor": 0
      },
      "text/plain": [
       "Drawing 100 posterior samples:   0%|          | 0/100 [00:00<?, ?it/s]"
      ]
     },
     "metadata": {},
     "output_type": "display_data"
    },
    {
     "data": {
      "application/vnd.jupyter.widget-view+json": {
       "model_id": "2b9a16f613904c4faf007878da47e494",
       "version_major": 2,
       "version_minor": 0
      },
      "text/plain": [
       "Drawing 100 posterior samples:   0%|          | 0/100 [00:00<?, ?it/s]"
      ]
     },
     "metadata": {},
     "output_type": "display_data"
    },
    {
     "data": {
      "application/vnd.jupyter.widget-view+json": {
       "model_id": "8dd6b6eba9824d528bd9b4b16d73e803",
       "version_major": 2,
       "version_minor": 0
      },
      "text/plain": [
       "Drawing 100 posterior samples:   0%|          | 0/100 [00:00<?, ?it/s]"
      ]
     },
     "metadata": {},
     "output_type": "display_data"
    },
    {
     "data": {
      "application/vnd.jupyter.widget-view+json": {
       "model_id": "0fd704bd585c4dcdb7c124bbcc5e7df8",
       "version_major": 2,
       "version_minor": 0
      },
      "text/plain": [
       "Drawing 100 posterior samples:   0%|          | 0/100 [00:00<?, ?it/s]"
      ]
     },
     "metadata": {},
     "output_type": "display_data"
    },
    {
     "name": "stderr",
     "output_type": "stream",
     "text": [
      "/home/jupyter-nadavbennun/.local/lib/python3.9/site-packages/sbi/utils/user_input_checks.py:575: FutureWarning: Series.__getitem__ treating keys as positions is deprecated. In a future version, integer keys will always be treated as labels (consistent with DataFrame behavior). To access a value by position, use `ser.iloc[pos]`\n",
      "  x = atleast_2d(torch.as_tensor(x, dtype=float32))\n"
     ]
    },
    {
     "data": {
      "application/vnd.jupyter.widget-view+json": {
       "model_id": "7be3521425014c0c9901cd374b924463",
       "version_major": 2,
       "version_minor": 0
      },
      "text/plain": [
       "  0%|          | 0/50 [00:00<?, ?it/s]"
      ]
     },
     "metadata": {},
     "output_type": "display_data"
    },
    {
     "data": {
      "application/vnd.jupyter.widget-view+json": {
       "model_id": "c055f312ca054c1e8e278d62209124ea",
       "version_major": 2,
       "version_minor": 0
      },
      "text/plain": [
       "  0%|          | 0/1100 [00:00<?, ?it/s]"
      ]
     },
     "metadata": {},
     "output_type": "display_data"
    },
    {
     "data": {
      "application/vnd.jupyter.widget-view+json": {
       "model_id": "316f119ba854415bbdac10e4b25ceb72",
       "version_major": 2,
       "version_minor": 0
      },
      "text/plain": [
       "  0%|          | 0/50 [00:00<?, ?it/s]"
      ]
     },
     "metadata": {},
     "output_type": "display_data"
    },
    {
     "data": {
      "application/vnd.jupyter.widget-view+json": {
       "model_id": "bc9028d20b784257a0d6293ca72416ec",
       "version_major": 2,
       "version_minor": 0
      },
      "text/plain": [
       "  0%|          | 0/1100 [00:00<?, ?it/s]"
      ]
     },
     "metadata": {},
     "output_type": "display_data"
    },
    {
     "data": {
      "application/vnd.jupyter.widget-view+json": {
       "model_id": "99f9db5fb3fe4f208362d28196ee2173",
       "version_major": 2,
       "version_minor": 0
      },
      "text/plain": [
       "Drawing 100 posterior samples:   0%|          | 0/100 [00:00<?, ?it/s]"
      ]
     },
     "metadata": {},
     "output_type": "display_data"
    },
    {
     "data": {
      "application/vnd.jupyter.widget-view+json": {
       "model_id": "2052f02599f04ca7addca0299da94e09",
       "version_major": 2,
       "version_minor": 0
      },
      "text/plain": [
       "Drawing 100 posterior samples:   0%|          | 0/100 [00:00<?, ?it/s]"
      ]
     },
     "metadata": {},
     "output_type": "display_data"
    },
    {
     "data": {
      "application/vnd.jupyter.widget-view+json": {
       "model_id": "096b8f8a3d3a48b88e8b2b74c7a5e8fd",
       "version_major": 2,
       "version_minor": 0
      },
      "text/plain": [
       "Drawing 100 posterior samples:   0%|          | 0/100 [00:00<?, ?it/s]"
      ]
     },
     "metadata": {},
     "output_type": "display_data"
    },
    {
     "data": {
      "application/vnd.jupyter.widget-view+json": {
       "model_id": "8524fa94e55840769f557f9b104c569d",
       "version_major": 2,
       "version_minor": 0
      },
      "text/plain": [
       "Drawing 100 posterior samples:   0%|          | 0/100 [00:00<?, ?it/s]"
      ]
     },
     "metadata": {},
     "output_type": "display_data"
    },
    {
     "data": {
      "application/vnd.jupyter.widget-view+json": {
       "model_id": "445824eba3b54737a8233ef2e6e9c59a",
       "version_major": 2,
       "version_minor": 0
      },
      "text/plain": [
       "Drawing 100 posterior samples:   0%|          | 0/100 [00:00<?, ?it/s]"
      ]
     },
     "metadata": {},
     "output_type": "display_data"
    },
    {
     "name": "stderr",
     "output_type": "stream",
     "text": [
      "/home/jupyter-nadavbennun/.local/lib/python3.9/site-packages/sbi/utils/user_input_checks.py:575: FutureWarning: Series.__getitem__ treating keys as positions is deprecated. In a future version, integer keys will always be treated as labels (consistent with DataFrame behavior). To access a value by position, use `ser.iloc[pos]`\n",
      "  x = atleast_2d(torch.as_tensor(x, dtype=float32))\n"
     ]
    },
    {
     "data": {
      "application/vnd.jupyter.widget-view+json": {
       "model_id": "303e8e6792c0472c97e35a1b705e8171",
       "version_major": 2,
       "version_minor": 0
      },
      "text/plain": [
       "Drawing 100 posterior samples:   0%|          | 0/100 [00:00<?, ?it/s]"
      ]
     },
     "metadata": {},
     "output_type": "display_data"
    },
    {
     "data": {
      "application/vnd.jupyter.widget-view+json": {
       "model_id": "3e15cb7d715d4bcca705c1e6a0900f1d",
       "version_major": 2,
       "version_minor": 0
      },
      "text/plain": [
       "Drawing 100 posterior samples:   0%|          | 0/100 [00:00<?, ?it/s]"
      ]
     },
     "metadata": {},
     "output_type": "display_data"
    },
    {
     "data": {
      "application/vnd.jupyter.widget-view+json": {
       "model_id": "f77271f2ba454a56b8dba40d67143d7a",
       "version_major": 2,
       "version_minor": 0
      },
      "text/plain": [
       "Drawing 100 posterior samples:   0%|          | 0/100 [00:00<?, ?it/s]"
      ]
     },
     "metadata": {},
     "output_type": "display_data"
    },
    {
     "name": "stderr",
     "output_type": "stream",
     "text": [
      "WARNING:root:Only 0.000% proposal samples are\n",
      "                    accepted. It may take a long time to collect the remaining\n",
      "                    100 samples. Consider interrupting (Ctrl-C) and switching to\n",
      "                    `build_posterior(..., sample_with='mcmc')`.\n"
     ]
    },
    {
     "data": {
      "application/vnd.jupyter.widget-view+json": {
       "model_id": "e33cbcb8a09d46cb9ce44b688111018c",
       "version_major": 2,
       "version_minor": 0
      },
      "text/plain": [
       "Drawing 100 posterior samples:   0%|          | 0/100 [00:00<?, ?it/s]"
      ]
     },
     "metadata": {},
     "output_type": "display_data"
    },
    {
     "data": {
      "application/vnd.jupyter.widget-view+json": {
       "model_id": "f1407e145b854847bcb52d364c7d3841",
       "version_major": 2,
       "version_minor": 0
      },
      "text/plain": [
       "Drawing 100 posterior samples:   0%|          | 0/100 [00:00<?, ?it/s]"
      ]
     },
     "metadata": {},
     "output_type": "display_data"
    },
    {
     "data": {
      "application/vnd.jupyter.widget-view+json": {
       "model_id": "a908e0d7feeb468fadd872faac438d80",
       "version_major": 2,
       "version_minor": 0
      },
      "text/plain": [
       "Drawing 100 posterior samples:   0%|          | 0/100 [00:00<?, ?it/s]"
      ]
     },
     "metadata": {},
     "output_type": "display_data"
    },
    {
     "data": {
      "application/vnd.jupyter.widget-view+json": {
       "model_id": "91c306d01cc14ac3b14192427197fcd4",
       "version_major": 2,
       "version_minor": 0
      },
      "text/plain": [
       "Drawing 100 posterior samples:   0%|          | 0/100 [00:00<?, ?it/s]"
      ]
     },
     "metadata": {},
     "output_type": "display_data"
    },
    {
     "data": {
      "application/vnd.jupyter.widget-view+json": {
       "model_id": "9275fc301d054fa5bcf3c8540858917f",
       "version_major": 2,
       "version_minor": 0
      },
      "text/plain": [
       "Drawing 100 posterior samples:   0%|          | 0/100 [00:00<?, ?it/s]"
      ]
     },
     "metadata": {},
     "output_type": "display_data"
    },
    {
     "name": "stderr",
     "output_type": "stream",
     "text": [
      "/tmp/ipykernel_725567/1308329093.py:26: FutureWarning: Downcasting behavior in `replace` is deprecated and will be removed in a future version. To retain the old behavior, explicitly call `result.infer_objects(copy=False)`. To opt-in to the future behavior, set `pd.set_option('future.no_silent_downcasting', True)`\n",
      "  cont_df.replace(np.nan, '') # aesthetics\n"
     ]
    },
    {
     "data": {
      "text/html": [
       "<div>\n",
       "<style scoped>\n",
       "    .dataframe tbody tr th:only-of-type {\n",
       "        vertical-align: middle;\n",
       "    }\n",
       "\n",
       "    .dataframe tbody tr th {\n",
       "        vertical-align: top;\n",
       "    }\n",
       "\n",
       "    .dataframe thead th {\n",
       "        text-align: right;\n",
       "    }\n",
       "</style>\n",
       "<table border=\"1\" class=\"dataframe\">\n",
       "  <thead>\n",
       "    <tr style=\"text-align: right;\">\n",
       "      <th></th>\n",
       "      <th>rep 1</th>\n",
       "      <th>rep 2</th>\n",
       "      <th>rep 3</th>\n",
       "      <th>rep 4</th>\n",
       "      <th>rep 5</th>\n",
       "      <th>rep 6</th>\n",
       "      <th>rep 7</th>\n",
       "      <th>rep 8</th>\n",
       "    </tr>\n",
       "  </thead>\n",
       "  <tbody>\n",
       "    <tr>\n",
       "      <th>wt</th>\n",
       "      <td>-2319.0</td>\n",
       "      <td>-9939.0</td>\n",
       "      <td>-1167.0</td>\n",
       "      <td>-26800.0</td>\n",
       "      <td>-2586.0</td>\n",
       "      <td></td>\n",
       "      <td></td>\n",
       "      <td></td>\n",
       "    </tr>\n",
       "    <tr>\n",
       "      <th>ltr</th>\n",
       "      <td>-6712.0</td>\n",
       "      <td>-2522.0</td>\n",
       "      <td>-inf</td>\n",
       "      <td>-1504.0</td>\n",
       "      <td>-594.0</td>\n",
       "      <td>-169.0</td>\n",
       "      <td>-1774.0</td>\n",
       "      <td></td>\n",
       "    </tr>\n",
       "    <tr>\n",
       "      <th>ars</th>\n",
       "      <td>-133143.0</td>\n",
       "      <td>-33901.0</td>\n",
       "      <td>-25178.0</td>\n",
       "      <td>-422.0</td>\n",
       "      <td>-6917.0</td>\n",
       "      <td>-57112.0</td>\n",
       "      <td>-29552.0</td>\n",
       "      <td></td>\n",
       "    </tr>\n",
       "    <tr>\n",
       "      <th>all</th>\n",
       "      <td>-1698.0</td>\n",
       "      <td>-2582.0</td>\n",
       "      <td>-49282.0</td>\n",
       "      <td>-5065.0</td>\n",
       "      <td>-9784.0</td>\n",
       "      <td>-7617.0</td>\n",
       "      <td>-1507.0</td>\n",
       "      <td>-6394.0</td>\n",
       "    </tr>\n",
       "  </tbody>\n",
       "</table>\n",
       "</div>"
      ],
      "text/plain": [
       "        rep 1    rep 2    rep 3    rep 4   rep 5    rep 6    rep 7   rep 8\n",
       "wt    -2319.0  -9939.0  -1167.0 -26800.0 -2586.0                          \n",
       "ltr   -6712.0  -2522.0     -inf  -1504.0  -594.0   -169.0  -1774.0        \n",
       "ars -133143.0 -33901.0 -25178.0   -422.0 -6917.0 -57112.0 -29552.0        \n",
       "all   -1698.0  -2582.0 -49282.0  -5065.0 -9784.0  -7617.0  -1507.0 -6394.0"
      ]
     },
     "execution_count": 5,
     "metadata": {},
     "output_type": "execute_result"
    }
   ],
   "source": [
    "from sbi.inference import MCMCPosterior\n",
    "\n",
    "def est_PX(posterior, lik, x, n_samples):\n",
    "    if x.name in ['gap1_ars_1', 'gap1_ars_3']:\n",
    "        potential_fn = posterior.potential_fn\n",
    "        potential_fn.set_x(x)\n",
    "        posterior_mcmc = MCMCPosterior(potential_fn, proposal = prior)\n",
    "        samples = posterior_mcmc.set_default_x(x).sample((n_samples,))\n",
    "       \n",
    "    else:\n",
    "        samples = posterior.set_default_x(x).sample((n_samples,))\n",
    "        \n",
    "    post_vals = posterior.set_default_x(x).log_prob(samples)\n",
    "    lik_vals = lik.set_default_x(x).potential(samples)\n",
    "    return float((logsumexp(lik_vals-post_vals)-np.log(n_samples)).round())\n",
    "\n",
    "lines = ['wt','ltr','ars','all']\n",
    "cont_df = pd.DataFrame(index = lines, columns = [f'rep {i+1}' for i in range(8)])\n",
    "maps = pd.read_csv('maps/sbi_all_maps_chuong.csv', index_col=0)\n",
    "\n",
    "for l in range(len(lines)):\n",
    "    line = lines[l]\n",
    "    X = pd.read_csv(f'empirical_data/{line}.csv', index_col=0) # unimputed data\n",
    "    conts = [est_PX(posterior_chuong, lik, X.iloc[i,:], 100) for i in range(len(X))]\n",
    "    cont_df.iloc[l,:len(conts)] = conts\n",
    "cont_df.replace(np.nan, '') # aesthetics"
   ]
  },
  {
   "cell_type": "code",
   "execution_count": null,
   "id": "ce0850b6-7bf0-4730-b15e-4ca035f1ed34",
   "metadata": {},
   "outputs": [],
   "source": []
  }
 ],
 "metadata": {
  "kernelspec": {
   "display_name": "Python 3 (ipykernel)",
   "language": "python",
   "name": "python3"
  },
  "language_info": {
   "codemirror_mode": {
    "name": "ipython",
    "version": 3
   },
   "file_extension": ".py",
   "mimetype": "text/x-python",
   "name": "python",
   "nbconvert_exporter": "python",
   "pygments_lexer": "ipython3",
   "version": "3.9.13"
  }
 },
 "nbformat": 4,
 "nbformat_minor": 5
}
